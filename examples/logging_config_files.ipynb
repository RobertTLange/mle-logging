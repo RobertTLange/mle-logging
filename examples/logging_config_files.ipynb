{
 "cells": [
  {
   "cell_type": "code",
   "execution_count": 3,
   "metadata": {},
   "outputs": [
    {
     "name": "stdout",
     "output_type": "stream",
     "text": [
      "The autoreload extension is already loaded. To reload it, use:\n",
      "  %reload_ext autoreload\n"
     ]
    }
   ],
   "source": [
    "%load_ext autoreload\n",
    "%autoreload 2\n",
    "%config InlineBackend.figure_format = 'retina'\n",
    "\n",
    "from mle_logging import MLELogger"
   ]
  },
  {
   "cell_type": "markdown",
   "metadata": {},
   "source": [
    "# Storing Logging Results"
   ]
  },
  {
   "cell_type": "markdown",
   "metadata": {},
   "source": [
    "If you provide a .json file path and a seed_id, the log will be created in a sub-directory.\n",
    "\n",
    "Furthermore, the .json file will be copied for reproducibility.\n",
    "\n",
    "Multiple simultanous runs (different seeds) can now log to the same directory. Everything else remains the same."
   ]
  },
  {
   "cell_type": "code",
   "execution_count": 4,
   "metadata": {},
   "outputs": [],
   "source": [
    "# Instantiate logging to experiment_dir\n",
    "log_seed_0 = MLELogger(time_to_track = ['num_updates', 'num_epochs'],\n",
    "                       what_to_track = ['train_loss', 'test_loss'],\n",
    "                       experiment_dir = \"multi_seed_dir/\",\n",
    "                       config_fname = \"base_config.json\",  # Provide path to .json config\n",
    "                       seed_id = \"seed_0\",                 # Provide some seed identifier (str)   \n",
    "                       use_tboard = True,\n",
    "                       model_type = 'torch')\n",
    "\n",
    "log_seed_1 = MLELogger(time_to_track = ['num_updates', 'num_epochs'],\n",
    "                       what_to_track = ['train_loss', 'test_loss'],\n",
    "                       experiment_dir = \"multi_seed_dir/\",\n",
    "                       config_fname = \"base_config.json\",  # Provide path to .json config\n",
    "                       seed_id = \"seed_1\",                 # Provide some seed identifier (str)   \n",
    "                       use_tboard = True,\n",
    "                       model_type = 'torch')"
   ]
  },
  {
   "cell_type": "code",
   "execution_count": 5,
   "metadata": {},
   "outputs": [],
   "source": [
    "# Save some time series statistics\n",
    "time_tic = {'num_updates': 10,\n",
    "            'num_epochs': 1}\n",
    "stats_tic = {'train_loss': 0.1234,\n",
    "             'test_loss': 0.1235}\n",
    "\n",
    "# Update the log with collected data & save it to .hdf5\n",
    "log_seed_0.update(time_tic, stats_tic, save=True)\n",
    "log_seed_1.update(time_tic, stats_tic, save=True)"
   ]
  },
  {
   "cell_type": "markdown",
   "metadata": {},
   "source": [
    "# Aggregating the Two Seed Logs"
   ]
  },
  {
   "cell_type": "code",
   "execution_count": 9,
   "metadata": {},
   "outputs": [],
   "source": [
    "import os\n",
    "from mle_logging.merge import merge_hdf5_files\n",
    "\n",
    "log_dir = \"multi_seed_dir/21-08-04_base_config/logs/\"\n",
    "merge_hdf5_files(new_filename = os.path.join(log_dir, \"seed_aggregated.hdf5\"),\n",
    "                 log_paths = [os.path.join(log_dir, \"21-08-04_base_config_seed_0.hdf5\"),\n",
    "                              os.path.join(log_dir, \"21-08-04_base_config_seed_1.hdf5\")])"
   ]
  },
  {
   "cell_type": "code",
   "execution_count": null,
   "metadata": {},
   "outputs": [],
   "source": [
    "!pwd"
   ]
  },
  {
   "cell_type": "code",
   "execution_count": null,
   "metadata": {},
   "outputs": [],
   "source": []
  }
 ],
 "metadata": {
  "kernelspec": {
   "display_name": "Python3 (ma-vision)",
   "language": "python",
   "name": "ma-vision"
  },
  "language_info": {
   "codemirror_mode": {
    "name": "ipython",
    "version": 3
   },
   "file_extension": ".py",
   "mimetype": "text/x-python",
   "name": "python",
   "nbconvert_exporter": "python",
   "pygments_lexer": "ipython3",
   "version": "3.6.9"
  }
 },
 "nbformat": 4,
 "nbformat_minor": 4
}
