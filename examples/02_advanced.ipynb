{
 "cells": [
  {
   "cell_type": "markdown",
   "metadata": {},
   "source": [
    "[![Colab](https://colab.research.google.com/assets/colab-badge.svg)](https://colab.research.google.com/github/RobertTLange/mle-logging/blob/main/examples/02_advanced.ipynb)"
   ]
  },
  {
   "cell_type": "code",
   "execution_count": 1,
   "metadata": {},
   "outputs": [],
   "source": [
    "%load_ext autoreload\n",
    "%autoreload 2\n",
    "%config InlineBackend.figure_format = 'retina'\n",
    "\n",
    "from mle_logging import MLELogger"
   ]
  },
  {
   "cell_type": "markdown",
   "metadata": {},
   "source": [
    "# Logging of Same Configuration with Different Random Seeds"
   ]
  },
  {
   "cell_type": "markdown",
   "metadata": {},
   "source": [
    "If you provide a .json file path and a seed_id, the log will be created in a sub-directory.\n",
    "\n",
    "Furthermore, the .json file will be copied for reproducibility.\n",
    "\n",
    "Multiple simultanous runs (different seeds) can now log to the same directory. Everything else remains the same."
   ]
  },
  {
   "cell_type": "code",
   "execution_count": 2,
   "metadata": {},
   "outputs": [],
   "source": [
    "# Instantiate logging to experiment_dir for two random seeds\n",
    "log_seed_1 = MLELogger(time_to_track = ['num_updates', 'num_epochs'],\n",
    "                       what_to_track = ['train_loss', 'test_loss'],\n",
    "                       experiment_dir = \"multi_seed_dir/\",\n",
    "                       config_fname = \"config_1.json\",     # Provide path to .json config\n",
    "                       seed_id = \"seed_1\")                 # Provide some seed identifier (str)   \n",
    "\n",
    "log_seed_2 = MLELogger(time_to_track = ['num_updates', 'num_epochs'],\n",
    "                       what_to_track = ['train_loss', 'test_loss'],\n",
    "                       experiment_dir = \"multi_seed_dir/\",\n",
    "                       config_fname = \"config_1.json\",     # Provide path to .json config\n",
    "                       seed_id = \"seed_2\")                 # Provide some seed identifier (str)   "
   ]
  },
  {
   "cell_type": "code",
   "execution_count": 3,
   "metadata": {},
   "outputs": [],
   "source": [
    "# Save some time series statistics\n",
    "time_tic = {'num_updates': 10,\n",
    "            'num_epochs': 1}\n",
    "stats_tic = {'train_loss': 0.1234,\n",
    "             'test_loss': 0.1235}\n",
    "\n",
    "# Update the log with collected data & save it to .hdf5\n",
    "log_seed_1.update(time_tic, stats_tic, save=True)\n",
    "log_seed_2.update(time_tic, stats_tic, save=True)"
   ]
  },
  {
   "cell_type": "code",
   "execution_count": 4,
   "metadata": {},
   "outputs": [],
   "source": [
    "import os\n",
    "from mle_logging.merge import merge_hdf5_files\n",
    "\n",
    "exp_dir = \"multi_seed_dir/21-08-04_config_1/\"\n",
    "log_dir = os.path.join(exp_dir, \"logs/\")\n",
    "merge_hdf5_files(new_filename = os.path.join(log_dir, \"seed_aggregated.hdf5\"),\n",
    "                 log_paths = [os.path.join(log_dir, \"21-08-04_config_1_seed_1.hdf5\"),\n",
    "                              os.path.join(log_dir, \"21-08-04_config_1_seed_2.hdf5\")],\n",
    "                 delete_files=True)"
   ]
  },
  {
   "cell_type": "code",
   "execution_count": 5,
   "metadata": {},
   "outputs": [
    {
     "data": {
      "text/plain": [
       "['seed_1', 'seed_2']"
      ]
     },
     "execution_count": 5,
     "metadata": {},
     "output_type": "execute_result"
    }
   ],
   "source": [
    "from mle_logging import load_log\n",
    "\n",
    "log = load_log(exp_dir)\n",
    "log.eval_ids"
   ]
  },
  {
   "cell_type": "code",
   "execution_count": 6,
   "metadata": {},
   "outputs": [
    {
     "name": "stdout",
     "output_type": "stream",
     "text": [
      "Only single configuration/evaluation loaded.\n"
     ]
    }
   ],
   "source": [
    "log = load_log(exp_dir, aggregate_seeds=True)\n",
    "log.eval_ids"
   ]
  },
  {
   "cell_type": "code",
   "execution_count": 7,
   "metadata": {},
   "outputs": [
    {
     "data": {
      "text/plain": [
       "odict_keys(['mean', 'std', 'p50', 'p10', 'p25', 'p75', 'p90'])"
      ]
     },
     "execution_count": 7,
     "metadata": {},
     "output_type": "execute_result"
    }
   ],
   "source": [
    "log.stats.train_loss.keys()"
   ]
  },
  {
   "cell_type": "markdown",
   "metadata": {},
   "source": [
    "## Logging of Different Configurations"
   ]
  },
  {
   "cell_type": "code",
   "execution_count": 8,
   "metadata": {},
   "outputs": [],
   "source": [
    "# Instantiate logging to experiment_dir for two .json configurations\n",
    "log_config_1 = MLELogger(time_to_track = ['num_updates', 'num_epochs'],\n",
    "                         what_to_track = ['train_loss', 'test_loss'],\n",
    "                         experiment_dir = \"multi_config_dir/\",\n",
    "                         config_fname = \"config_1.json\",     # Provide path to .json config\n",
    "                         seed_id = \"seed_0\")                 # Provide some seed identifier (str)   \n",
    "\n",
    "log_config_2 = MLELogger(time_to_track = ['num_updates', 'num_epochs'],\n",
    "                         what_to_track = ['train_loss', 'test_loss'],\n",
    "                         experiment_dir = \"multi_config_dir/\",\n",
    "                         config_fname = \"config_2.json\",     # Provide path to .json config\n",
    "                         seed_id = \"seed_0\")                 # Provide some seed identifier (str)   "
   ]
  },
  {
   "cell_type": "code",
   "execution_count": 9,
   "metadata": {},
   "outputs": [],
   "source": [
    "# Update the log with collected data & save it to .hdf5\n",
    "log_config_1.update(time_tic, stats_tic, save=True)\n",
    "log_config_2.update(time_tic, stats_tic, save=True)"
   ]
  },
  {
   "cell_type": "code",
   "execution_count": 10,
   "metadata": {},
   "outputs": [],
   "source": [
    "from mle_logging import merge_meta_log"
   ]
  },
  {
   "cell_type": "code",
   "execution_count": 11,
   "metadata": {},
   "outputs": [],
   "source": [
    "merge_hdf5_files(new_filename = \"multi_config_dir/21-08-04_config_1/logs/config_1.hdf5\",\n",
    "                 log_paths = [\"multi_config_dir/21-08-04_config_1/logs/21-08-04_config_1_seed_0.hdf5\"],\n",
    "                 delete_files=True)\n",
    "merge_hdf5_files(new_filename = \"multi_config_dir/21-08-04_config_1/logs/config_2.hdf5\",\n",
    "                 log_paths = [\"multi_config_dir/21-08-04_config_2/logs/21-08-04_config_2_seed_0.hdf5\"],\n",
    "                 delete_files=True)\n",
    "\n",
    "meta_log = merge_meta_log(experiment_dir = \"multi_config_dir/\",\n",
    "                          all_run_ids = [\"config_1\", \"config_2\"])"
   ]
  },
  {
   "cell_type": "code",
   "execution_count": 12,
   "metadata": {},
   "outputs": [
    {
     "data": {
      "text/plain": [
       "['config_1', 'config_2']"
      ]
     },
     "execution_count": 12,
     "metadata": {},
     "output_type": "execute_result"
    }
   ],
   "source": [
    "meta_log.eval_ids"
   ]
  },
  {
   "cell_type": "code",
   "execution_count": 13,
   "metadata": {},
   "outputs": [
    {
     "data": {
      "text/plain": [
       "DotMap(test_loss=DotMap(mean=masked_array(data=[0.12349999696016312],\n",
       "             mask=[False],\n",
       "       fill_value=1e+20), std=masked_array(data=[0.0],\n",
       "             mask=[False],\n",
       "       fill_value=1e+20), p50=array([0.1235]), p10=array([0.1235]), p25=array([0.1235]), p75=array([0.1235]), p90=array([0.1235])), train_loss=DotMap(mean=masked_array(data=[0.1234000027179718],\n",
       "             mask=[False],\n",
       "       fill_value=1e+20), std=masked_array(data=[0.0],\n",
       "             mask=[False],\n",
       "       fill_value=1e+20), p50=array([0.1234]), p10=array([0.1234]), p25=array([0.1234]), p75=array([0.1234]), p90=array([0.1234])))"
      ]
     },
     "execution_count": 13,
     "metadata": {},
     "output_type": "execute_result"
    }
   ],
   "source": [
    "meta_log.config_1.stats"
   ]
  },
  {
   "cell_type": "code",
   "execution_count": null,
   "metadata": {},
   "outputs": [],
   "source": []
  }
 ],
 "metadata": {
  "kernelspec": {
   "display_name": "Python3 (ma-vision)",
   "language": "python",
   "name": "ma-vision"
  },
  "language_info": {
   "codemirror_mode": {
    "name": "ipython",
    "version": 3
   },
   "file_extension": ".py",
   "mimetype": "text/x-python",
   "name": "python",
   "nbconvert_exporter": "python",
   "pygments_lexer": "ipython3",
   "version": "3.6.9"
  }
 },
 "nbformat": 4,
 "nbformat_minor": 4
}
