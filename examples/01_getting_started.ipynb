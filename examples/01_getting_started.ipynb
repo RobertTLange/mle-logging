{
 "cells": [
  {
   "cell_type": "markdown",
   "metadata": {},
   "source": [
    "[![Colab](https://colab.research.google.com/assets/colab-badge.svg)](https://colab.research.google.com/github/RobertTLange/mle-logging/blob/main/examples/01_getting_started.ipynb)"
   ]
  },
  {
   "cell_type": "code",
   "execution_count": 1,
   "metadata": {},
   "outputs": [],
   "source": [
    "%load_ext autoreload\n",
    "%autoreload 2\n",
    "%config InlineBackend.figure_format = 'retina'\n",
    "\n",
    "from mle_logging import MLELogger"
   ]
  },
  {
   "cell_type": "markdown",
   "metadata": {},
   "source": [
    "# Storing Logging Results"
   ]
  },
  {
   "cell_type": "code",
   "execution_count": 2,
   "metadata": {},
   "outputs": [
    {
     "data": {
      "text/html": [
       "<pre style=\"white-space:pre;overflow-x:auto;line-height:normal;font-family:Menlo,'DejaVu Sans Mono',consolas,'Courier New',monospace\">╭─────────────────╮ ╭──────────────╮ ╭───────────────╮ ╭────────────────╮\n",
       "│ <span style=\"font-weight: bold\">Log Directory</span>   │ │ <span style=\"font-weight: bold\">Time Tracked</span> │ │ <span style=\"font-weight: bold\">Stats Tracked</span> │ │ <span style=\"font-weight: bold\">Models Tracked</span> │\n",
       "│ <span style=\"color: #000000; text-decoration-color: #000000\">experiment_dir/</span> │ │ <span style=\"color: #800000; text-decoration-color: #800000\">time</span>         │ │ <span style=\"color: #000080; text-decoration-color: #000080\">train_loss</span>    │ │ <span style=\"color: #008000; text-decoration-color: #008000\">torch</span>          │\n",
       "╰─────────────────╯ │ <span style=\"color: #800000; text-decoration-color: #800000\">num_updates</span>  │ │ <span style=\"color: #000080; text-decoration-color: #000080\">test_loss</span>     │ ╰────────────────╯\n",
       "                    │ <span style=\"color: #800000; text-decoration-color: #800000\">num_epochs</span>   │ ╰───────────────╯                   \n",
       "                    │ <span style=\"color: #800000; text-decoration-color: #800000\">time_elapsed</span> │                                     \n",
       "                    ╰──────────────╯                                     \n",
       "</pre>\n"
      ],
      "text/plain": [
       "<rich.jupyter.JupyterRenderable at 0x7f8449032520>"
      ]
     },
     "metadata": {},
     "output_type": "display_data"
    }
   ],
   "source": [
    "# Instantiate logging to experiment_dir\n",
    "log = MLELogger(time_to_track = ['num_updates', 'num_epochs'],\n",
    "                what_to_track = ['train_loss', 'test_loss'],\n",
    "                time_to_print = ['num_updates', 'num_epochs'],\n",
    "                what_to_print = ['train_loss', 'test_loss'],\n",
    "                experiment_dir = \"experiment_dir/\",\n",
    "                config_fname = None,\n",
    "                use_tboard = True,\n",
    "                model_type = 'torch',\n",
    "                print_every_k_updates = 1,\n",
    "                overwrite_experiment_dir = 1)"
   ]
  },
  {
   "cell_type": "code",
   "execution_count": 3,
   "metadata": {},
   "outputs": [
    {
     "data": {
      "text/html": [
       "<pre style=\"white-space:pre;overflow-x:auto;line-height:normal;font-family:Menlo,'DejaVu Sans Mono',consolas,'Courier New',monospace\">      <span style=\"color: #800000; text-decoration-color: #800000\">                                                                                </span>       \n",
       "      <span style=\"color: #800000; text-decoration-color: #800000\"> </span><span style=\"font-weight: bold\"> ⌚ </span><span style=\"color: #800000; text-decoration-color: #800000; font-weight: bold\">time</span><span style=\"font-weight: bold\">        </span><span style=\"color: #800000; text-decoration-color: #800000\"> </span><span style=\"font-weight: bold\"> </span><span style=\"color: #800000; text-decoration-color: #800000; font-weight: bold\">num_updates</span><span style=\"font-weight: bold\">  </span><span style=\"color: #800000; text-decoration-color: #800000\"> </span><span style=\"font-weight: bold\">  </span><span style=\"color: #800000; text-decoration-color: #800000; font-weight: bold\">num_epochs</span><span style=\"font-weight: bold\">  </span><span style=\"color: #800000; text-decoration-color: #800000\"> </span><span style=\"font-weight: bold\"> 📖 </span><span style=\"color: #000080; text-decoration-color: #000080; font-weight: bold\">train_loss</span><span style=\"font-weight: bold\">  </span><span style=\"color: #800000; text-decoration-color: #800000\"> </span><span style=\"font-weight: bold\">  </span><span style=\"color: #000080; text-decoration-color: #000080; font-weight: bold\">test_loss</span><span style=\"font-weight: bold\">   </span><span style=\"color: #800000; text-decoration-color: #800000\"> </span>       \n",
       "      <span style=\"color: #800000; text-decoration-color: #800000\"> ────────────────────────────────────────────────────────────────────────────── </span>       \n",
       "      <span style=\"color: #800000; text-decoration-color: #800000\">  08-06|21:22:52        10             1        </span><span style=\"color: #000080; text-decoration-color: #000080\">     0.1234     </span><span style=\"color: #800000; text-decoration-color: #800000\"> </span><span style=\"color: #000080; text-decoration-color: #000080\">    0.1235    </span><span style=\"color: #800000; text-decoration-color: #800000\"> </span>       \n",
       "      <span style=\"color: #800000; text-decoration-color: #800000\">                                                                                </span>       \n",
       "</pre>\n"
      ],
      "text/plain": [
       "<rich.jupyter.JupyterRenderable at 0x7f8449071400>"
      ]
     },
     "metadata": {},
     "output_type": "display_data"
    }
   ],
   "source": [
    "# Save some time series statistics\n",
    "time_tic = {'num_updates': 10,\n",
    "            'num_epochs': 1}\n",
    "stats_tic = {'train_loss': 0.1234,\n",
    "             'test_loss': 0.1235}\n",
    "\n",
    "# Update the log with collected data & save it to .hdf5\n",
    "log.update(time_tic, stats_tic)\n",
    "log.save()"
   ]
  },
  {
   "cell_type": "code",
   "execution_count": 4,
   "metadata": {},
   "outputs": [],
   "source": [
    "# Save a model (torch, sklearn, jax, numpy)\n",
    "import torch.nn as nn\n",
    "\n",
    "class DummyModel(nn.Module):\n",
    "    def __init__(self):\n",
    "        super(DummyModel, self).__init__()\n",
    "        self.fc1 = nn.Linear(16 * 5 * 5, 120)\n",
    "        self.fc2 = nn.Linear(120, 84)\n",
    "        self.fc3 = nn.Linear(84, 10)\n",
    "\n",
    "    def forward(self, x):\n",
    "        x = self.fc1(x)\n",
    "        x = self.fc2(x)\n",
    "        x = self.fc3(x)\n",
    "        return x\n",
    "\n",
    "# Initialize model\n",
    "model = DummyModel()\n",
    "log.save_model(model)"
   ]
  },
  {
   "cell_type": "code",
   "execution_count": 5,
   "metadata": {},
   "outputs": [
    {
     "data": {
      "image/png": "[encoded data removed]",
      "text/plain": [
       "<Figure size 432x288 with 1 Axes>"
      ]
     },
     "metadata": {
      "image/png": {
       "height": 250,
       "width": 380
      },
      "needs_background": "light"
     },
     "output_type": "display_data"
    }
   ],
   "source": [
    "# Save a matplotlib figure as .png\n",
    "import numpy as np\n",
    "import matplotlib.pyplot as plt\n",
    "fig, ax = plt.subplots()\n",
    "ax.plot(np.random.normal(0, 1, 20))\n",
    "log.save_plot(fig)\n",
    "# You can also explicity give a name to the file\n",
    "# log.save_plot(fig, \"some_figure_path.png\")"
   ]
  },
  {
   "cell_type": "code",
   "execution_count": 6,
   "metadata": {},
   "outputs": [],
   "source": [
    "# You can also save (somewhat) arbitrary objects .pkl\n",
    "some_dict = {\"hi\" : \"there\"}\n",
    "log.save_extra(some_dict)\n",
    "\n",
    "# You can also explicity give a name to the file\n",
    "# log.save_extra(some_dict, \"some_object_path.pkl\")"
   ]
  },
  {
   "cell_type": "code",
   "execution_count": 7,
   "metadata": {},
   "outputs": [
    {
     "data": {
      "text/html": [
       "<pre style=\"white-space:pre;overflow-x:auto;line-height:normal;font-family:Menlo,'DejaVu Sans Mono',consolas,'Courier New',monospace\">      <span style=\"color: #800000; text-decoration-color: #800000\">                                                                                </span>       \n",
       "      <span style=\"color: #800000; text-decoration-color: #800000\"> </span><span style=\"font-weight: bold\"> ⌚ </span><span style=\"color: #800000; text-decoration-color: #800000; font-weight: bold\">time</span><span style=\"font-weight: bold\">        </span><span style=\"color: #800000; text-decoration-color: #800000\"> </span><span style=\"font-weight: bold\"> </span><span style=\"color: #800000; text-decoration-color: #800000; font-weight: bold\">num_updates</span><span style=\"font-weight: bold\">  </span><span style=\"color: #800000; text-decoration-color: #800000\"> </span><span style=\"font-weight: bold\">  </span><span style=\"color: #800000; text-decoration-color: #800000; font-weight: bold\">num_epochs</span><span style=\"font-weight: bold\">  </span><span style=\"color: #800000; text-decoration-color: #800000\"> </span><span style=\"font-weight: bold\"> 📖 </span><span style=\"color: #000080; text-decoration-color: #000080; font-weight: bold\">train_loss</span><span style=\"font-weight: bold\">  </span><span style=\"color: #800000; text-decoration-color: #800000\"> </span><span style=\"font-weight: bold\">  </span><span style=\"color: #000080; text-decoration-color: #000080; font-weight: bold\">test_loss</span><span style=\"font-weight: bold\">   </span><span style=\"color: #800000; text-decoration-color: #800000\"> </span>       \n",
       "      <span style=\"color: #800000; text-decoration-color: #800000\"> ────────────────────────────────────────────────────────────────────────────── </span>       \n",
       "      <span style=\"color: #800000; text-decoration-color: #800000\">  08-06|21:22:53        10             1        </span><span style=\"color: #000080; text-decoration-color: #000080\">     0.1234     </span><span style=\"color: #800000; text-decoration-color: #800000\"> </span><span style=\"color: #000080; text-decoration-color: #000080\">    0.1235    </span><span style=\"color: #800000; text-decoration-color: #800000\"> </span>       \n",
       "      <span style=\"color: #800000; text-decoration-color: #800000\">                                                                                </span>       \n",
       "</pre>\n"
      ],
      "text/plain": [
       "<rich.jupyter.JupyterRenderable at 0x7f84593b6f10>"
      ]
     },
     "metadata": {},
     "output_type": "display_data"
    }
   ],
   "source": [
    "# Or do everything in one go\n",
    "log.update(time_tic, stats_tic,\n",
    "           model, fig, some_dict,\n",
    "           save=True)"
   ]
  },
  {
   "cell_type": "markdown",
   "metadata": {},
   "source": [
    "# Reloading for Post-Processing"
   ]
  },
  {
   "cell_type": "code",
   "execution_count": 8,
   "metadata": {},
   "outputs": [],
   "source": [
    "from mle_logging import load_log\n",
    "\n",
    "log = load_log(\"experiment_dir/\")"
   ]
  },
  {
   "cell_type": "code",
   "execution_count": 9,
   "metadata": {},
   "outputs": [
    {
     "data": {
      "text/plain": [
       "odict_keys(['config_fname', 'eval_id', 'experiment_dir', 'extra_storage_paths', 'fig_storage_paths', 'log_paths', 'model_ckpt', 'model_type'])"
      ]
     },
     "execution_count": 9,
     "metadata": {},
     "output_type": "execute_result"
    }
   ],
   "source": [
    "log.meta.keys()"
   ]
  },
  {
   "cell_type": "code",
   "execution_count": 10,
   "metadata": {},
   "outputs": [
    {
     "data": {
      "text/plain": [
       "'experiment_dir/models/final/21-08-06_no_seed_provided.pt'"
      ]
     },
     "execution_count": 10,
     "metadata": {},
     "output_type": "execute_result"
    }
   ],
   "source": [
    "log.meta.model_ckpt[0].decode()"
   ]
  },
  {
   "cell_type": "code",
   "execution_count": 11,
   "metadata": {},
   "outputs": [
    {
     "data": {
      "text/plain": [
       "odict_keys(['test_loss', 'train_loss'])"
      ]
     },
     "execution_count": 11,
     "metadata": {},
     "output_type": "execute_result"
    }
   ],
   "source": [
    "log.stats.keys()"
   ]
  },
  {
   "cell_type": "code",
   "execution_count": 12,
   "metadata": {},
   "outputs": [
    {
     "data": {
      "text/plain": [
       "array([0.1235, 0.1235], dtype=float32)"
      ]
     },
     "execution_count": 12,
     "metadata": {},
     "output_type": "execute_result"
    }
   ],
   "source": [
    "log.stats.test_loss"
   ]
  },
  {
   "cell_type": "code",
   "execution_count": 13,
   "metadata": {},
   "outputs": [
    {
     "data": {
      "text/plain": [
       "odict_keys(['num_epochs', 'num_updates', 'time', 'time_elapsed'])"
      ]
     },
     "execution_count": 13,
     "metadata": {},
     "output_type": "execute_result"
    }
   ],
   "source": [
    "log.time.keys()"
   ]
  },
  {
   "cell_type": "code",
   "execution_count": 14,
   "metadata": {},
   "outputs": [
    {
     "data": {
      "text/plain": [
       "array([10., 10.], dtype=float32)"
      ]
     },
     "execution_count": 14,
     "metadata": {},
     "output_type": "execute_result"
    }
   ],
   "source": [
    "log.time.num_updates"
   ]
  },
  {
   "cell_type": "code",
   "execution_count": null,
   "metadata": {},
   "outputs": [],
   "source": []
  }
 ],
 "metadata": {
  "kernelspec": {
   "display_name": "mle-toolbox",
   "language": "python",
   "name": "mle-toolbox"
  },
  "language_info": {
   "codemirror_mode": {
    "name": "ipython",
    "version": 3
   },
   "file_extension": ".py",
   "mimetype": "text/x-python",
   "name": "python",
   "nbconvert_exporter": "python",
   "pygments_lexer": "ipython3",
   "version": "3.8.10"
  }
 },
 "nbformat": 4,
 "nbformat_minor": 4
}
